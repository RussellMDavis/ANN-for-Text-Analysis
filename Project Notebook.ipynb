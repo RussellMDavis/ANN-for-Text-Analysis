{
 "cells": [
  {
   "cell_type": "markdown",
   "metadata": {},
   "source": [
    "   While sensationalist journalism has existed for centuries, fake news has recently risen to prominence as a result of the political climate.  However, because fake news is targeted at public perception of any entity, it can bring significant harm to corporations as well.  One instance of fake news propagation contributed to a temporary reduction of almost 4% in the publicly traded stock price of PEPSI and a more lingering impact on the corporation's public image.  Therefore, we conclude that corporations may benefit significantly from preventing the proliferation of fake news focused on them.\n",
    "   \n",
    "  Twitter and Reddit, two of the most prominent social media sites in the Western world, each have at least 250 million users.  Due to their high traffic, they represent convenient avenues for the propagation of news stories by any interested part, as well as providing vectors for these websites to propagate fake news. While the websites can be used for benign purposes or for relatively normal marketing, their immense reach means that fake news articles that go viral will spread quickly across the internet.   \n",
    "   \n",
    "   Due to the speed with which viral fake news can have a negative impact on both the public image and the financial bottom line of businesses, we posit that a proactive approach to fake news postings on these websites before they can hoodwink unsuspecting readers represents a useful asset to the standard crisis communications toolbox. Our approach is to immediately recognize fake news articles pertaining to any interested company and identify them as such to all readers. It is often the case that users begin responding to and discussing articles based purely on the headline, without evaluating their contents; with this being true, alerting readers that they may be being misled is paramount. Rapidly addressing fake news in this manner could prevent significant loss, both monetary and when considering their public image. Further details pertaining to the business model are contained in the attached report.\n",
    "  \n",
    "  We currently possess two primary avenues for achieving this. The first is predicated on the aforementioned list of fake news websites curated by OpenSources. By making the default assumption that any story hosted by these websites has a strong likelihood of being misleading or fake, we can simply preempt any significant discussion on Reddit or Twitter by announcing to readers that the source is, at best, suspect.  This is an approach that could be performed by anyone with sufficient familiarity with fake news and the APIs for each website, and does not require the application of data science concepts.\n",
    "  \n",
    "  Our second approach will be to evaluate the text inside the story as the basis for classification of news articles independent of their source. This approach will train software to evaluate text using a large corpus of previously-classified news stories. The fake news articles in this corpus were compiled from websites flagged by OpenSources, while the real news articles were collected from media outlets with a long history of reliable reporting. This software will apply neural networks to the natural language problem of classification, which is an emerging field of research.\n",
    "\n",
    "\n",
    "\n",
    "\n"
   ]
  },
  {
   "cell_type": "markdown",
   "metadata": {},
   "source": [
    "   In order to integrate emerging data science into our approach, we propose to use artificial neural networks trained on a corpus of pre-classified fake and real news articles to identify unclassified documents.  While curated lists identifying sources of fake news are helpful, they are unlikely to identify every possible purveyor of fake news.  \n",
    "   \n",
    "   Therefore, we require a method of evaluating individual stories based on their contents rather than their source.  In the past few decades, artificial neural networks have achieved significant advances in natural language processing.    Much of the code we use in this section is founded on work done by Gareth Dwyer and implemented with a neural networks API called Keras.\n",
    "Keras allows easy development of neural network architecture, meaning that we can choose a system customized to our purposes.  Because we are engaged in natural language processing, we rely on recurrent neural networks, which are commonly used in this context.  \n",
    "   \n",
    "   We use the long short-term memory method introduced by Hochreiter and Schmidhuber in 1997 to address some of the shortcomings in the methodology, as well as some other adjustments recommended by Dwyer.  After training the neural network with our corpus of fake and legitimate news stories, the network is capable of predicting the nature of new documents with approximately 88% accuracy.  \n",
    "    \n",
    "   To make use of this, we have programmed Bot_Defender to not only examine the source of news articles, but also to read the articles by itself and come to a conclusion about whether or not the article's contents were semantically similar to fake news articles.  This can be performed on either Twitter and Reddit, and is demonstrated using our Reddit-based Bot Defender."
   ]
  },
  {
   "cell_type": "markdown",
   "metadata": {},
   "source": [
    "   The embedding layer transforms each individual word into a vector of a given size (in our use case, a vector of 128 words).  As the neural network is trained, the mapping function used to transform the words learns which words are similar, and adjusts its transformations to map similar words into similar vectors.\n",
    " \t\n",
    "   The dropout layer is similar in concept to the random forest technique applied in ensemble learning methods.  It randomly disables neurons in subsequent layers in order to ensure that they are able to learn a comprehensive variety of lessons and nuances rather than re-learning the same lesson over and over.  Because learning mechanisms may fall prey to local minima and fail to discover the true response (for example, always concluding that 'couple' refers to a pair of people and never learning that it may be used idiomatically), dropout layers are necessary to providing a more complete and generalisable approach for the neural network.\n",
    " \n",
    "   The convolutional layer works in tandem with the max pooling layer to train the classifier using pertinent n-grams instead of limiting the trainer to single worlds.  The convolutional layer assigns a filter to subsets of the text to obtain what can be seen as a weighting, while the max pooling layer collects the most significantly weighted blocks from each convolution.\n",
    "\t\n",
    "   The recurrent neural network - long short-term memory layer (RNN - LSTM) layer is the heart of our learning method, as the other layers are simply dedicated to providing input to this layer.  RNNs function by parsing sequential data and passing information gained from each datum on to the next iteration.  Because our data is linguistic, where each word has an impact on the interpretation of the subsequent words in the phrase, it is well-suited to our purposes.  The LSTM modification allows the function to retain information for particularly relevant content. \n",
    " \t\n",
    "   The dense layer is the final layer and translates the RNN-LSTM output into an actual classification.  This classification is then integrated into the Reddit Bot code for application."
   ]
  },
  {
   "cell_type": "markdown",
   "metadata": {},
   "source": [
    "This is not code, and is meant only to show the structure of the network.\n",
    "\n",
    "model = Sequential()\n",
    "model.add(Embedding(2000, 128, input_length=300))\n",
    "model.add(Dropout(0.2))\n",
    "model.add(Conv1D(64, 5, activation='relu'))\n",
    "model.add(MaxPooling1D(pool_size=4))\n",
    "model.add(LSTM(128))\n",
    "model.add(Dense(1, activation='sigmoid'))\n",
    "model.compile(loss='binary_crossentropy', optimizer='adam', metrics=['accuracy'])\n",
    "model.fit(data, np.array(y), validation_split=0.25, epochs=3)"
   ]
  },
  {
   "cell_type": "markdown",
   "metadata": {},
   "source": [
    "   The first approach mentioned above, oriented around the OpenSources list of fake news websites, requires automated comparison of the website hosting stories highlighted in Twitter tweets or Reddit posts to the Opensources list. We utilized the APIs provided by both Twitter and Reddit to design bots that can generate pre-programmed responses. The Twitter bot identifies tweets pertaining to our client companies using hashtags, and then inspects these tweets to see if they contain links to other pages.  If these other pages are hosted by websites on the OpenSources list, a response to that tweet is automatically generated by the Twitter bot.     \n",
    "   The following code implements automated accounts on both Reddit and Twitter to provide the aforementioned automated responses.  Examples of the output are also included."
   ]
  },
  {
   "cell_type": "markdown",
   "metadata": {},
   "source": [
    "### Create a neural network to classify news articles as real or fake"
   ]
  },
  {
   "cell_type": "code",
   "execution_count": 2,
   "metadata": {},
   "outputs": [
    {
     "name": "stderr",
     "output_type": "stream",
     "text": [
      "Using TensorFlow backend.\n"
     ]
    }
   ],
   "source": [
    "from collections import Counter\n",
    "from datetime import datetime\n",
    " \n",
    "import json\n",
    " \n",
    "from keras.layers import Embedding, LSTM, Dense, Conv1D, MaxPooling1D, Dropout, Activation\n",
    "from keras.models import Sequential\n",
    "from keras.preprocessing.text import Tokenizer\n",
    "from keras.preprocessing.sequence import pad_sequences\n",
    " \n",
    "import numpy as np\n",
    "import pandas as pd\n",
    "\n",
    "\n"
   ]
  },
  {
   "cell_type": "code",
   "execution_count": 3,
   "metadata": {},
   "outputs": [
    {
     "name": "stdout",
     "output_type": "stream",
     "text": [
      "6335\n",
      "6335\n"
     ]
    }
   ],
   "source": [
    "#Read in the dataset of real and fake news articles\n",
    "\n",
    "# Import `fake_or_real_news.csv` \n",
    "df = pd.read_csv(\"https://s3.amazonaws.com/assets.datacamp.com/blog_assets/fake_or_real_news.csv\")\n",
    "\n",
    "# Set index \n",
    "df = df.reset_index('level_0')\n",
    "\n",
    "# Set `y` \n",
    "y = df.label \n",
    "\n",
    "y = list(y)\n",
    "\n",
    "# Drop the `label` column\n",
    "df.drop(\"label\", axis=1)\n",
    "\n",
    "# Make training and test sets \n",
    "X = df['text']\n",
    "\n",
    "X = list(X)\n",
    "\n",
    "print(len(y))\n",
    "\n",
    "print(len(X))\n"
   ]
  },
  {
   "cell_type": "code",
   "execution_count": 7,
   "metadata": {},
   "outputs": [
    {
     "name": "stdout",
     "output_type": "stream",
     "text": [
      "Done!\n"
     ]
    }
   ],
   "source": [
    "#Tokenize the text of the articles\n",
    "\n",
    "tokenizer = Tokenizer(num_words=2000)\n",
    "tokenizer.fit_on_texts(X)\n",
    "sequences = tokenizer.texts_to_sequences(X)\n",
    "data = pad_sequences(sequences, maxlen=300)\n",
    "\n",
    "print('Done!')"
   ]
  },
  {
   "cell_type": "code",
   "execution_count": 5,
   "metadata": {},
   "outputs": [
    {
     "data": {
      "text/plain": [
       "Counter({0: 3164, 1: 3171})"
      ]
     },
     "execution_count": 5,
     "metadata": {},
     "output_type": "execute_result"
    }
   ],
   "source": [
    "#Convert the labels fron 'REAL' and 'FAKE to 1 or 0\n",
    "\n",
    "for indx, label in enumerate(y):\n",
    "    if label == 'FAKE':\n",
    "        y[indx] = 0\n",
    "    else:\n",
    "        y[indx] = 1\n",
    "Counter(y)"
   ]
  },
  {
   "cell_type": "code",
   "execution_count": 8,
   "metadata": {},
   "outputs": [
    {
     "name": "stdout",
     "output_type": "stream",
     "text": [
      "Start\n",
      "Train on 4751 samples, validate on 1584 samples\n",
      "Epoch 1/3\n",
      "4751/4751 [==============================] - 75s - loss: 0.4679 - acc: 0.7554 - val_loss: 0.2902 - val_acc: 0.8870\n",
      "Epoch 2/3\n",
      "4751/4751 [==============================] - 71s - loss: 0.2245 - acc: 0.9202 - val_loss: 0.3012 - val_acc: 0.8813\n",
      "Epoch 3/3\n",
      "4751/4751 [==============================] - 86s - loss: 0.1687 - acc: 0.9430 - val_loss: 0.2794 - val_acc: 0.8851\n",
      "Done!\n"
     ]
    }
   ],
   "source": [
    "#Create the cnn+lstm nnet  and train it on our news articles. We see it has an 88% accuracy on the validation data. \n",
    "\n",
    "print('Start')\n",
    "model = Sequential()\n",
    "model.add(Embedding(2000, 128, input_length=300))\n",
    "model.add(Dropout(0.2))\n",
    "model.add(Conv1D(64, 5, activation='relu'))\n",
    "model.add(MaxPooling1D(pool_size=4))\n",
    "model.add(LSTM(128))\n",
    "model.add(Dense(1, activation='sigmoid'))\n",
    "model.compile(loss='binary_crossentropy', optimizer='adam', metrics=['accuracy'])\n",
    "model.fit(data, np.array(y), validation_split=0.25, epochs=3)\n",
    "\n",
    "print('Done!')"
   ]
  },
  {
   "cell_type": "code",
   "execution_count": 90,
   "metadata": {
    "collapsed": true
   },
   "outputs": [],
   "source": [
    "# save the tokenizer and model\n",
    "\n",
    "import pickle\n",
    " \n",
    "with open(\"keras_tokenizer.pickle\", \"wb\") as f:\n",
    "   pickle.dump(tokenizer, f)\n",
    "model.save(\"news_fake_model.hdf5\")"
   ]
  },
  {
   "cell_type": "code",
   "execution_count": 17,
   "metadata": {
    "collapsed": true
   },
   "outputs": [],
   "source": [
    "#This function grabs the text of articles given their url. We can tokenize the output of this and then feed it into\n",
    "#our neural network to classify the article as real or fake \n",
    "\n",
    "import urllib.request\n",
    "from bs4 import BeautifulSoup\n",
    "    \n",
    "def text_grabber(url):\n",
    "    html = urllib.request.urlopen(url).read()\n",
    "    soup = BeautifulSoup(html, \"lxml\")\n",
    "\n",
    "    # kill all script and style elements\n",
    "    for script in soup([\"script\", \"style\"]):\n",
    "        script.extract()    # rip it out\n",
    "\n",
    "    # get text\n",
    "    text = soup.get_text()\n",
    "\n",
    "    # break into lines and remove leading and trailing space on each\n",
    "    lines = (line.strip() for line in text.splitlines())\n",
    "    # break multi-headlines into a line each\n",
    "    chunks = (phrase.strip() for line in lines for phrase in line.split(\"  \"))\n",
    "    # drop blank lines\n",
    "    text = '\\n'.join(chunk for chunk in chunks if chunk)\n",
    "    return text\n"
   ]
  },
  {
   "cell_type": "code",
   "execution_count": 18,
   "metadata": {},
   "outputs": [
    {
     "data": {
      "text/plain": [
       "'White Helmets & \\'Local Councils\\' - Is the UK FCO Financing Terrorism in Syria with Taxpayer Funds? - 21st Century Wire\\nSupport 21WIRE >\\nBecome a Member\\nDonate Here\\nShop 21Wire\\nAbout 21WIRE\\nTV & Radio >\\n21WIRE.TV\\nAlternate Current Radio\\niTunes\\nPatrick Henningsen LIVE\\nPodomatic\\nSoundCloud\\nSpreaker\\nStitcher\\nSunday Wire Show\\nUK Column Live\\nSunday Wire Show\\nHave Your Shout\\nShop 21Wire\\nDONATE HERE\\nNews for the Waking Generation\\nInternational\\nMyanmar\\nNorth Korea\\nEurope\\nBrexit\\nGrenfell Tower\\nNATO\\nMiddle East\\nAleppo\\nIran\\nIsrael\\nQatar\\nSaudi Arabia\\nSyria\\nWhite Helmets\\nYemen\\nUS News\\n2016 Election\\nCharlottesville\\nFake News\\nEurasia\\nAfghanistan\\nArmenia\\nChina\\nCrimea\\nIndia\\nIran\\nRussia\\nTurkey\\nUkraine\\nSci-Tech\\nBitcoin\\nHollywood\\nWhite Helmets\\n“Jihadis You Pay For”\\nWhite Helmets & ‘Local Councils’ – Is the UK FCO Financing Terrorism in Syria with Taxpayer Funds?\\nDecember 2, 2017\\nBy Vanessa Beeley Leave a Comment\\nVanessa Beeley\\n21st Century Wire\\nThe UK regime is a primary player in the ostensibly US-led coalition whose objective for the last seven years, has been the removal of Syria’s President Assad and the inevitable imposition of a so called “moderate” Islamic State upon the people of Syria. This campaign has led to the destabilization of Syria and destruction of infrastructure across much of its territory. Not to mention, the wholesale suffering endured by the Syrian people under attack from NATO member state-sponsored terrorism and punishing economic sanctions.\\xa0 It is therefore ironic that the UK Government funds the Syrian “opposition” via its\\xa0\\xa0Conflict Stability and Security Fund (CSSF):\\n“The Conflict, Stability and Security Fund (CSSF) provides development and security support to countries which are at risk of conflict or instability. It’s the only government fund which uses both Defence spend and Official Development Assistance (ODA) to deliver and support security, defence, peacekeeping, peace-building and stability activity.”\\nPreviously entitled the ‘Conflict Pool‘, the CSSF is a £1bn-plus slush fund dedicated to providing “development and security”, according to the UK Government overview.\\n“The CSSF has been allocated £1.163 billion for 2017 to 2018. It includes over £300 million mandatory contributions to peacekeeping operations.” ~ CSSF An Overview\\nFrom the outset, CSSF spending has been shrouded in secrecy, particularly with regards to Syria.\\nFollowing a recent Parliamentary Question from Baroness Caroline Cox, it has been confirmed that the UK FCO has financed the Syrian “opposition” for three years through the CSSF:\\n“The value of the CSSF for Syria is £69 million in the current financial year, was £64 million in 2016-17, and £66 million in 2015-16.” – Lord Ahmad of Wimbledon, FCO\\nOver the period of three years the UK government has poured almost £200 million of tax payer funds into a failed proxy military intervention in Syria. However, the British government will not release the names of the recipients of this funding and make the claim that they are not providing lethal aid:\\n“This support to the moderate opposition has included political support and non-lethal equipment. In terms of equipment, we have provided communications, medical and logistics equipment. We have also provided equipment to protect against chemical weapons attack. For security reasons we do not disclose the names of groups supported.” – Lord Ahmad of Wimbledon, FCO\\nJournalist, Peter Oborne, explained what this really means:\\n“We’ve spent £200m in Syria – for nothing.\\xa0It is now clear that British backing for the ‘rebels’ in the Syrian civil war was not just a mistake, it was a disaster.\\xa0The policy made a horrific war much worse, and facilitated the growth of ISIS. Though the Government said we were helping ‘moderates’, the main beneficiaries were Al-Qaeda and other jihadists…”\\nTHE GO-BETWEENS IN EAST ALEPPO\\nDuring my time in East Aleppo in 2016/17 with Syrian journalist, Khaled Iskef, we translated documents (in Arabic) found by Iskef, that referred to two UK organisations, Adam Smith International\\xa0(ASI) and Integrity Global in connection with the funding of Syrian “opposition” structures in East Aleppo. Translation of one document reveals that, in May 2014, the DFID\\xa0(Department for International Development) was involved in the funding of a Local Council initiative via ASI and Integrity:\\n“The program, which is funded by the Department for International Development (DFID) will be aimed at local structures that indicate responsibility, transparency, and respect for human rights and\\xa0 strengthens their capacity to provide local services to communities.\\xa0Adam Smith\\xa0 and Integrity will provide technical assistance through local consultancy teams, as well as technical and financial resources to meet the most urgent needs.\\xa0This program is currently working in 10 excellent communities and is expected to increase the assistance to 40 communities.”\\xa0 ~\\xa0Taken from the document.\\nThese documents were found among the debris of the various Nusra Front (Al Qaeda in Syria) centres, East Aleppo Council buildings and White Helmet centres. It is noteworthy that these three entities operating in what was terrorist occupied East Aleppo until December 2016, always worked alongside one another, either sharing facilities and buildings or next door to one another in the various districts of East Aleppo where they centered their activities.—\\nThe CSSF came into being on the 1st April 2015\\xa0and both Adam Smith International and Integrity Global were added to the “list of suppliers awarded a place on the conflict, stability and security fund framework“. ASI and Integrity are\\xa0\\xa0funded by the UK FCO via the CSSF to offer “assistance” to the Syrian “opposition” and this has been achieved via a variety of outreach agents, one of which is the Tamkeen Project, which claims to “build resilience in Syrian communities” and which establishes, funds and supports the “local councils” in terrorist held areas such as East Aleppo and Idlib. Appropriately, Tamkeen means “empowerment” in Arabic.\\n“Launched in 2013, and run by development consultants Adam Smith International, Tamkeen is different to anything else being funded by the global community in\\xa0Syria. It is the first programme to combine the provision of aid – in the form of schools, hospitals and services as basic as waste management and water treatment – with the perilous job of trying to create the foundation for legitimate government in a war zone. In short, it is building democracy from the bottom up. And doing it as the bombs fall.” – The Guardian\\nThe following video was filmed in the Al Sha’ar district of East Aleppo in July 2017 and shows a Tamkeen financed East Aleppo Council building opposite a former garage that was requisitioned as a Nusra Front (Al Qaeda) bomb-making factory. Watch:\\n…\\nThis image (below) shows the black powder that Nusra Front used to pack inside shells & gas canisters, similar to what is used inside DIME or “Tungsten” bombs deployed against Gaza by Israel in 2012 and 2014. These missiles would release the metal nano-particles on explosion and the particles are transferred from the wounds to the internal organs of the victims, causing inoperable damage and eventual septicemia from which there is usually no recovery.\\nThese deadly missiles were used on a regular basis against the 1.5 million Syrian civilians in the Syrian Government-protected West Aleppo during the terrorist & extremist occupation of East Aleppo. According to civilian testimony, after the liberation of East Aleppo, these missiles were also used against civilians in the occupied districts by the terrorist factions who then blamed such attacks on the advancing Syrian Arab Army.\\nBrita Hagi Hassan, “Mayor of Aleppo” with former French President, Francois Hollande December 2016. (Photo: Sputnik)\\nThe Tamkeen Project birthed and then nurtured the “Local Councils,” operating in what was terrorist-occupied East Aleppo. According to Brita Haji Hassan, the self-proclaimed “mayor of Aleppo” 2016,\\xa0 in an interview with the Guardian, the programme provided (East) Aleppo city council with £ 820,000 (May 2016).\\nWhile Hassan took great pains to describe his assumed “municipality” as “liberated Aleppo”, he naturally avoided mentioning the Nusra Front dominated terrorist presence that was committing atrocities against the Syrian civilians who dared to resist their occupiers’ extremist ideology or brutal oppression. Hassan tried to reinforce the myth that very few Nusra Front fighters remained in East Aleppo in December 2016 and that they were outnumbered by the “moderates” who had elected Hassan to his post as their representative. A representative of the associated\\xa0“democratic institutions“.\\nDemocratic institutions… such as the Sharia court in the Qadi Alasker district Eye & Childrens Hospital compound that had been occupied by ISIS until January 2014, then by Nusra Front in coordination with the Al Shameya Front & other extremist brigades. The following interview with Ahmad Aldayh was conducted in May 2017. Aldayh had been imprisoned in this particular “democratic institution”.\\n“The terrorists arrested a guy, the only child of his family. They arrested him because they found a picture of one of his friends carrying the Syrian flag, on his mobile phone. The terrorists tortured him for three hours, then they executed him”\\n…\\nDr Nabil Antaki, an eminent gastroenterologist from Aleppo had this to say about Hassan’s delusions of grandeur:\\n“Returning to the subject of this pseudo-mayor, Brita Hagi Hassan, I can assure you, he is mayor of nothing. Nobody in Aleppo had ever heard of him before he was magicked out of nowhere by the West. […] I ask all my friends in the West, please don’t believe your media & government lies and I have one message for the media: Enough! Stop lying!”\\nTHE ADAM SMITH SCANDAL\\nIn March 2017 the founders of ASI were forced to abdicate their roles when the UK government allegedly froze future contracts over questions about its ethical integrity. According to a Guardian article:\\n“Last month\\xa0DfID cut off funding\\xa0after it emerged that ASI, which has been entrusted with\\xa0£450m in development cash since 2011, had tried to profiteer by exploiting leaked department documents. It was also heavily criticised for trying to “unduly influence” a parliamentary inquiry by engineering “letters of appreciation” from beneficiaries of its projects.”\\nA statement from ASI said three founding executives – Andrew Kuhn, Amitabh Shrivastava and Peter Young – would step down as it “completed its transition to an employee-owned company“. William Morrisson, a founding director and ASI’s executive chairman would also resign after leading the disgraced company through its “restructuring” & “reform” programme.\\nThe DFID (Department for International Development) was further embarasssed as the Commons International Development Committee described ASI’s actions as “deplorable”, “entirely inappropriate” and said those involved had demonstrated “a serious lack of judgement”. Euphemisms for back channel corruption of the highest order.\\nHowever according to a Times article in September 2017, it appears that all promises of reform were merely paying lip service to the ASI\\xa0 detractors and there had been no intention of bringing an end to the ASI fraudulent & profitable procurement practices:\\n“The chairman of a controversial aid consultancy has been ousted after an aborted attempt to resume bidding for government contracts.\\nAdam Smith International (ASI), which has received hundreds of millions of pounds of taxpayers’ money, has been tarnished by scandals and claims that it has made excessive profits from aid contracts.\\nIt is being investigated by the Department for International Development (Dfid) after officials found that it used “improperly obtained” government documents for commercial advantage. It has also been criticised by MPs for helping to write “letters of appreciation” submitted to an inquiry into the use of aid contracts. Four executives stood down this year and the company announced reforms after pressure from the government.” ~ The Times\\nPhoto from Daily Mail article:\\xa0‘How Britain pours £568m of YOUR money into war-torn Somalia despite ‘certain’ risk it will be stolen by ISIS and used to fund terrorism.’\\nPerhaps rather naively, one might assume that the scandal that had affected DFID would be transferred over to the UK FCO CSSF managers. A quick look at the UK FCO spend ‘over £25,000’ for 2017 certainly shows continued payments being made to ASI, including in the updated entry on 29th September 2017.\\nIn fact, in the month of August 2017 alone, ASI received £ 3.79m from the UK FCO. It appears that the FCO is happy to be using a\\xa0 questionable & corrupt conduit to transfer funds that will almost certainly make their way into the hands of internationally proclaimed terrorist groups and their affiliates, this time in Syria.\\nEAST ALEPPO COUNCIL\\nFactions in east Aleppo announce formation of \"Aleppo Command Council\" in attempt to bring groups under 1 command pic.twitter.com/FqC4TdxEJc\\n— Hassan Ridha (@sayed_ridha) November 15, 2016\\nThe Aleppo Command Council, a unification of all eastern district “councils,” was set up in mid-November, as the fierce battles for the liberation of East Aleppo from western backed terrorist factions were drawing to a close. The Syrian Arab Army (SAA) allied advance was tightening the noose around the final terrorist enclaves that included the Old City of Aleppo and the Omayyed Mosque, where these photos were taken. So the last stand by the Tamkeen established, UK FCO financed, Local Council was reaching its finale.\\nSeems beheading children doesn\\'t make you a terrorist but it does qualify you to be a \"moderate rebel\" leader in Eastern Aleppo#Syria pic.twitter.com/4lY2NQIvYL\\n— the Lemniscat (@theLemniscat) November 16, 2016\\nA study of the photo & the nature of its subjects might give a few clues as to the terrorist affiliations of these Council members but one individual in particular stands out, Omar Salkho. Salkho (see image below) was a member of US backed “moderate” extremist group, Harakat Nour al Din Zenki & is seated in the centre of the photograph. This group’s notoriety rose to prominence after they publicly tortured and beheaded Palestinian child, Abdullah Issa in July 2016.\\nDid the UK FCO ‘overlook’ the terrorist activities and affiliations of the Local Councils they were financing by proxy just as they had overlooked the criminal fraud and seedy double-dealing conducted by ASI?\\nUK FCO-FINANCED TERRORISM\\nAbdulAziz Maghrabi seated centre, with Ahrar Al Sham & Abu Amara fighters. (Photo: Maghrabi’s Facebook page)\\nIn December 2013 a militant fighter, Abdulaziz Maghrabi (seen above) was elected President of the East Aleppo Council.\\xa0At that time, aforementioned Hagi Hassan was his deputy. In an Al Araby article that focused on Maghrabi, he informed them that he had been with the Muslim Brotherhood-Qatari-backed Al Tawhid Islamist\\xa0brigades when East Aleppo was first invaded in 2012. He was then elected to the presidency of the East Aleppo Council AND he formed the “civil defence” aka the White Helmets in East Aleppo in 2013, with the backing of the international sponsors & creators of this hybrid, pseudo first-responder organisation.\\nIn the second photo (November 2016) we see Maghrabi with hardline extremist group Abu Amara.\\xa0 Abu Amara acted as the most brutal security agency in East Aleppo, even outdoing Nusra Front in the atrocities committed against Syrian civilians under their occuptation. In the first photo with Ahrar Al Sham, Maghrabi is wearing a shirt with the Abu Amara logo, demonstrating the close working relationship between these two terrorist organisations. According to civilian testimony in East Aleppo – Nusra Front, Abu Amara, Ahrar Al Sham & other factions formed a tightly integrated group of terrorist brigades.\\nAccording to a report in Al Monitor,\\xa0al-Tawhid Brigade’s military commander, Abdul Qadir al-Saleh, made the following statement in 2013:\\n“Saleh recently praised\\xa0Jabhat al-Nusra\\xa0and “the high coordination between them and the rest of the factions fighting on the ground. … [There is] great coordination with them on the military side.”\\xa0That was not the first time he made such a statement. In April, he expressed his “complete rejection to include Jabhat al-Nusra on the US terrorism list,” adding that the group didn’t engage in terrorism.”\\nWhen I spoke to crew members of the former East Aleppo REAL Syria Civil Defence who had been expelled from East Aleppo by the militant groups, they told me these groups had taken over the East Aleppo centres in 2012-2013, killing many crew members, kidnapping others and stealing their equipment. One crew member told me they had tried to force him to stay and work with them, but he succeeded in escaping to the secure, terrorist-free West Aleppo which remained under Syrian government protection throughout the Nusra Front-led occupation of East Aleppo until December 2016. In his haste, he had been forced to leave his teenage sons behind in East Aleppo.\\nWhite Helmets and terrorist factions had marked him for assassination should he try to re-enter East Aleppo via any of the terrorist checkpoints. Other crew members told me how they & their families now working & living in West Aleppo had been deliberately targeted by militant factions in East Aleppo, even during rescue missions.\\nMaghrabi (better known as Abu Salma) did not relinquish his terrorist connections at any point. He remained an active member of Abu Amara & Nusra Front according to testimony from Syrian civilians & ex-fighters in East Aleppo who resumed normal life in Aleppo after the final evacuation of terrorist factions in December 2016. Maghrabi has regularly been photographed with Ahrar Al Sham, Abu Amara and at demonstrations with Nusra Front militants.\\nIn this photo, Maghrabi is seen being interviewed by Halab Today TV, during an East Aleppo, Nusra Front demonstration in September 2014 (Nusra Front black flag can be seen in the background):\\nMaghrabi posted the following video to his Facebook page in August 2017, paying tribute to the Abu Amara militants in the video – “A year ago, with one of the good guys before the launch of the Ramousie battle”. Abu Amara were preparing the campaign to prevent the SAA and allies retaking the Castello Road, an arterial humanitarian supply line for Aleppo civilians and an essential weapons entry point for the terrorist groups occupying East Aleppo:\\n…\\nWhile the US and UK have steadfastly refused to designate Ahar Al Sham a terrorist organisation, it is worth noting that in October 2016,\\xa0“a German court convicted four supporters of hardline Islamist group Ahrar Al-Sham, who supplied munitions and equipment worth thousands of dollars to Syria, of aiding terrorism. It may serve a precedent for further trials.”\\xa0This landmark decision marked Ahrar Al Sham as an atrocity-committing, international terrorist group operating in Syria:\\n“Describing the radical group as “a foreign terrorist organization”\\xa0that seeks to portray itself as a member of the so-called moderate opposition in Syria, the court cited the group’s public acknowledgments of mounting suicide attacks and preparing assaults on Alawite villages.” ~ Aiding Terrorist Groups\\nAhrar Al Sham are also included in the Jaish al Fatah (Army of Conquest) alongside Nusra Front. This terrorist “Army” is led by child-suicide-bomber-trainer, Riyadh educated Sheikh Abdullah Muhaysini. The following excerpt is taken from a video filmed in the Hama countryside earlier this year, featuring Fatah Al Sham fighters, White Helmets and Muhaysini welcoming terrorists from Daraya. Watch:\\n…\\nMaghrabi was therefore, undeniably, a terrorist at the same time as he was both president of the UK FCO financed East Aleppo Council & the founder of the White Helmets in East Aleppo who are also financed by the UK FCO, via the infamous CSSF, among a number of other international sponsors which include the US, via USAID & Chemonics, Qatar, Holland, France, Germany, Japan, Denmark, Canada. Those offering logistics support or training to the White Helmets include New Zealand.\\nWhite Helmet jackets with East Aleppo Council logo on sleeve, found in abandoned White Helmet/Nusra Front centres in East Aleppo. May 2017. (Photo: Vanessa Beeley)\\nThe close connection between East Aleppo Council and the White Helmets are demonstrated by:\\n1. They are both funded by the UK FCO CSSF (among other sponsors) via various intermediaries. For the White Helmets, it is Mayday Rescue that acts as the primary laundering agent for UK FCO funds.\\n2. Their operating centres in East Aleppo were always next door to each other and alongside Nusra Front military centres – and also alongside UK FCO funded “Free Syrian Police.”\\nSEE ALSO: The Free Syrian Police – Made in the UK\\n3.\\xa0 The White Helmet group in East Aleppo was established by the president of the East Aleppo Council (EAC), Maghrabi, who has clear affiliations to terrorist groups inside Syria. Maghrabi is also an active militant member of those groups, by his own admission.\\n4. White Helmets in East Aleppo, Idlib and other terrorist occupied areas of Syria have consistently and unreservedly proclaimed allegiance to terrorists groups such as Ahrar Al Sham and Nusra Front on their social media accounts. A recent survey carried out by the Syrian War Blog has identified 65 White Helmet operatives who have professed their membership of, or alliance with, extremist groups. This survey analysed more than 200 digital media accounts belonging to individual White Helmets and the investigation is ongoing. The 65 accounts that have been highlighted are the most extreme, but all other accounts also displayed extremist tendencies.\\nWhite Helmet team leader in Idlib reveals allegiance to Ahrar Al Sham via his Facebook posts.\\n5. The East Aleppo Council logo was seen on the sleeve of White Helmet jackets left behind in the abandoned White Helmet centres in various districts of East Aleppo. The White Helmets were evacuated from East Aleppo in December 2016 alongside the Nusra Front-led militant and extremist factions. Photo below shows White Helmet, Ismail Alabdullah,\\xa0wearing the White Helmet uniform with the East Aleppo Council logo on the left sleeve of the jacket. (Photo: Alabdullah’s Facebook page)\\nWhite Helmets receiving awards from Ahrar Al Sham with “moderate” extremist FSA flag in background. (Photo: Screenshot from AS video)\\n6: In the following infograph you will see that Hagi Hassan had replaced Maghrabi as president of the EAC by 2016. Hassan accompanied overall leader of the White Helmets, Raed Saleh (upper left-hand corner of infograph), to Paris in October 2016, where they were both welcomed by former French president, Francois Hollande and given access to the Assemblee Nationale. The East Aleppo “Local Council” working hand in hand with the White Helmets and terrorist groups in Syria, while lobbying for military escalation or faux-humanitarian intervention from the US coaliton, in this case, France.\\nInfograph by Vanessa Beeley showing funding chain from UK FCO to the terrorist-led White Helmets and the terrorist run East Aleppo Council, via ASI, Integrity and the Tamkeen Project.\\nA little further evidence of the UK FCO close working relationship with the Tamkeen Project can be demonstrated by UK FCO’s Special Representative for Syria (based in Turkey) Gareth Bayley and his letter to the Tamkeen team, regarding the loss of their leader, Ayman Sheikha during battles for East Aleppo in November 2016.\\nUnfortunately, Bayley never expressed such personal concern or condolences for the 11,000 plus civilians murdered in West Aleppo by the hell cannon gas canister missiles, mortars, grad rockets, explosive bullets, chemical weapon attacks, snipers, suicide bombers emanating from terrorist controlled East Aleppo during the 5 year siege by the very organisations the UK FCO had been financing during that time. The majority of Syrian civilians maimed or killed in West Aleppo were children.\\nCONCLUSIONS\\nOn November 7th 2017, Labour MP, Emily Thornberry\\xa0challenged UK Foreign Secretary, Boris Johnson in Parliament. Thornberry asked Johnson to provide assurances that the CSSF funds were not going to extremist or international terrorist groups inside Syria. Johnson ignored the question.\\n[Editor note: Thornberry misread her brief and cited figure of £20 million instead of the correct £ 200 million]\\nWith reference to the UK FCO funding of what are clearly terrorist controlled “opposition” groups, the most recent questions, tabled by Baroness Cox in October 2017, have asked whether the UK Govt can be sure that funds are not going to proscribed organisations with past or present links to Al Qaeda or associated extremist groups in East Aleppo and Idlib, via Tamkeen:\\n1. With reference to Lord Ahmed’s answer of 20 September (HL 1252) will the government clarify the role of Tamkeen in delivering UK support for moderates in Syria;\\xa0 in particular will the government make clear which local councils are receiving UK assistance through Tamkeen, and will\\xa0 they state whether individuals associated with proscribed organisations, notably those with links past or present to Al Qaida, are members of those councils or have been members during the periods in which the councils have received assistance?\\nAnswer:\\xa0 “The “Support to Emerging Local Governance in Syria (Tamkeen)” programme, which ended in 2016, and its successor, the “Strengthening Governance Structures (Tatweer)” programme, support Provincial and Local Councils in Syria by helping them to provide open and accountable local governance and services. Tatweer operates in 16 Syrian Local Councils identified as needing immediate basic services support across Idlib, Aleppo, Daraa and Rif Damascus governorates.\\xa0DFID has extensive controls in place to ensure that UK aid reaches those who need it and that it does not benefit extremists or terror groups, including vetting processes to ensure such groups are not part of the Councils with which we work. We actively manage the risks of operating in Syria. We stop funding to any project or sub-project where we have any concern that it could benefit proscribed groups.” ~ Lord Bates\\n2. With reference to Lord Ahmad’s answer of 20 September (HL1252) will the government clarify whether the assistance they have channelled through Tamkeen has been spent in areas of Northern Syria presently under the control of Hayat Tahrir Al Sham (the jihadi coalition led by the organisation which changed its name from Al Nusra), and the jihadi group Ahrar Al Sham, and whether that assistance continues to be made available to those areas?\\nAnswer:\\xa0 “Tamkeen and Tatweer, its successor programme, provide support to improve the capacity and processes of Provincial and Local Councils in northern Syria. DFID has extensive controls in place to ensure that UK aid reaches those who need it and that it does not benefit extremists or terror groups, such as Hayat Tahrir Al Sham, including vetting processes to ensure such groups are not part of the councils with which we work. We actively manage the risks of operating in Syria. We stop funding to any project or sub-project where we have any concern that it could benefit proscribed groups.” ~ Lord Bates\\nThese bland assurances address none of the evidence presented in this article. Who conducts these “vetting processes”?\\nIn 2013 former French Foreign Minister, Roland Dumas, revealed that, as early as 2009, the UK had informed him of plans to destabilise Syria.\\n“International law is indifferent to the perceived legitimacy of the state and to the form of government; both democracies and authoritarian regimes have the right to fight insurgencies and to defend themselves from external powers which aid the insurgents. Either way, it falls under the domestic jurisdiction of the state. Foreign powers are prohibited from assisting insurgents. General Assembly resolution 2131 (XX) declares that “no State shall organize, assist, foment, finance, incite or tolerate subversive, terrorist or armed activities directed towards the violent overthrow of the regime of another State, or interfere in civil strife in another State.” This was reaffirmed by the International Court of Justice in Nicaragua v. USA. The injured state is even entitled to adopt countermeasures against the intervening state.” ~ Amal Saad\\xa0– Author and Political Analyst\\nPromotional poster for the new UK-backed “Local Councils”, the Free Syrian Police and White Helmets found at a White Helmet base in East Aleppo (Photo: Patrick Henningsen, May 2017 @21WIRE)\\nThe White Helmets, the Free Syrian Police, the Local Councils in terrorist held areas of Syria – are all being financed, promoted, equipped and supported by the UK FCO in its campaign to undermine the Syrian state, its people & its leadership. Money that is taken under false pretences through taxation is almost certainly funding terrorism that has undergone various branding, and rebranding schemes in order to conceal this nefarious activity.\\nQuestions must not only be asked, they must be answered, and a full investigation into what has been “done in our name” should be demanded, so we may stem the flow of cash-for-terror into Syria, before we too, are implicated in the criminal, rogue-state foreign policy of our morally bankrupt government and its allies in the imperialist War Bloc.\\nNOTE:\\xa0“They Don’t Care About Us – White Helmets True Agenda” – since my intervention at the Geneva Press Club on November 28th, where I presented the evidence in this article, the Tamkeen website is no longer available:\\nTamkeen’s original web pages have been archived and are on file at 21st Century Wire.\\nWatch the full Geneva Press Club event here.\\nSEE ALSO: What to Expect From BBC Panorama and Guardian’s Whitewash of UK Gov’t Funding Terrorists in Syria\\n***\\nLEARN MORE ABOUT THE WHITE HELMETS BY READING THE FOLLOWING ARTICLES:\\n21st Century Wire:\\nNew Report Destroys Fabricated Myth of Syria’s ‘White Helmets’\\nInitial Investigation into White Helmets:\\nWho are Syria’s White Helmets?\\n21st Century Wire article on the White Helmets:\\nSyria’s White Helmets: War by Way of Deception ~ the “Moderate” Executioners\\nWho Funds the White Helmets?\\nSecret £1bn UK War Chest Used to Fund the White Helmets and Other ‘Initiatives’\\nOriginal investigative report:\\nThe REAL Syria Civil Defence\\xa0Exposes Fake White Helmets as Terrorist-Linked Imposters\\nIrish Peace Prize Farce\\nTipperary’s White Helmets Peace Prize: A Judas Kiss to the Antiwar Movement and Syria\\nWhite Helmets Executions\\nWHITE HELMETS: Severed Heads of Syrian Arab Army Soldiers Paraded as Trophies\\nCNN Fabricate News About the White Helmets\\nA NOBEL LIE: CNN’s Claim That ‘White Helmets Center in Damascus’ Was Hit by a Barrel Bomb\\nWhite Helmets Links to Al Nusra\\nWHITE HELMETS: Hand in Hand with Al Qaeda and Extremist Child Beheaders in Aleppo\\nReport by Patrick Henningsen\\nAN INTRODUCTION: Smart Power & The Human Rights Industrial Complex\\nOpen Letter by Vanessa Beeley\\nWhite Helmets Campaign for War NOT Peace – Retract RLA & Nobel Peace Prize Nominations\\nStaged\\xa0Rescue Videos\\n(VIDEO) White Helmets: Miraculous ‘Rag Doll Rescue’\\nWhite Helmets Oscar Award Farce:\\nForget Oscar: Give The White Helmets the Leni Riefenstahl Award for Best War Propaganda Film\\nCory Morningstar report:\\nInvestigation into the funding sources of the White Helmets, including Avaaz, Purpose, The Syria Campaign\\nOpen letter to Canadian MPs from Stop the War Hamilton (Canada):\\nLetter from the Hamilton Coalition to Stop War to the New Democratic Party in Canada ref the White Helmet nomination for the Nobel Peace Prize:\\nOpen letter to Canada’s NDP Leader on Nobel Prize:\\nLetter to NDP from Prof. John Ryan protesting White Helmet nomination for RLA and Nobel Peace Prize.\\nREAD MORE WHITE HELMETS NEWS AT:\\xa021st Century Wire White Helmets Files\\nREAD MORE SYRIA NEWS AT:\\xa021st Century Wire Syria Files\\nSUPPORT 21WIRE – SUBSCRIBE & BECOME A MEMBER @21WIRE.TV\\n2.2kSHARESShareTweet\\nFiled Under: Featured, International News, Middle East, Vanessa Beeley Tagged With: Adam Smith International, Al Qaeda, Baroness Caroline Cox, Boris Johnson, Emily Thornberry, Integrity Consulting, Media Cog, Syria News, Syrian Opposition, Tamkeen, UK FCO, White Helmets\\nSunday Wire LIVE Episode #212\\nListen to “Episode #212 – ‘London Fascism Week’ guests Ian R. Crane, Mike Robinson, Basil Valentine” on Spreaker.\\n21WIRE Email Updates\\nGet daily email updates when new posts are published to 21st Century Wire.\\nEmail Address\\nPreferred Format\\nHTML\\nText\\nFeatured on 21WIRE\\nLoose Change Final Cut: Exposing The Fraudulent Official Story of 9/11Dr. Robert Schoch: The REAL Age of The Sphinx RevealedEpic Fail: Jon Stewart Lies in Ferguson Skit, Gets Slammed by CA District AttorneyDrones and Satellites Discover Lost CivilizationsCrossTalk: Can The Establishment & Media Impeach Trump?4th of July: Why the Shadow Government Hates Independence Day‘God Told Me to Do It’: The Dangers of America’s Lunatic RightElitist Boris Johnson: ‘Greed is good’ and ‘it’s futile to try and end inequality’Featured Stories Archive\\nCOPYRIGHT © 2009-2017 · 21ST CENTURY WIRE · ALL RIGHTS RESERVED WORLDWIDE'"
      ]
     },
     "execution_count": 18,
     "metadata": {},
     "output_type": "execute_result"
    }
   ],
   "source": [
    "#An example of the output \n",
    "text_grabber('http://21stcenturywire.com/2017/12/02/white-helmets-local-councils-uk-fco-financing-terrorism-syria-taxpayer-funds/')"
   ]
  },
  {
   "cell_type": "code",
   "execution_count": 146,
   "metadata": {},
   "outputs": [
    {
     "name": "stdout",
     "output_type": "stream",
     "text": [
      "Done!\n"
     ]
    }
   ],
   "source": [
    "#Let's try it on 6 real and 6 fake news stories\n",
    "\n",
    "url_list_fake = ['https://www.theonion.com/russian-olympic-coach-gently-breaks-news-to-hulking-200-1821059083',  'https://www.theonion.com/fda-confirms-psilocybin-reduces-risk-of-mindlessly-foll-1821046978', 'https://ahtribune.com/us/trump-at-war/1948-iran-zionists-trump.html', 'https://ahtribune.com/human-rights/american-human-rights/2023-matthew-hoh.html', 'https://entertainment.theonion.com/leah-remini-rediscovers-her-faith-in-scientology-after-1820914252', 'https://politics.theonion.com/new-rnc-ad-endorses-roy-moore-he-s-a-scumbag-but-he-1821020657']\n",
    "\n",
    "url_list_real =['http://abcnews.go.com/International/fallout-trumps-jerusalem-decision-dangerous-experts-warn/story?id=51615581', 'http://abcnews.go.com/Politics/wireStory/woman-volunteered-conyers-alleges-sexual-harassment-51613701', 'https://www.washingtonpost.com/news/wonk/wp/2017/12/01/gop-eyes-post-tax-cut-changes-to-welfare-medicare-and-social-security/?hpid=hp_hp-top-table-main_wb-medicare-240p%3Ahomepage%2Fstory', 'http://www.cnn.com/2017/12/06/politics/jerusalem-peace-process-white-house/index.html', 'http://money.cnn.com/2017/12/05/news/tax-haven-eu-blacklist/index.html', 'http://abcnews.go.com/Politics/note-metoo-partisan-split/story?id=51640123']\n",
    "\n",
    "X_new_fake = []\n",
    "X_new_real = []\n",
    "\n",
    "\n",
    "for url in url_list_fake:\n",
    "    html = urllib.request.urlopen(url).read()\n",
    "    text_grab = text_grabber(url)\n",
    "    X_new_fake.append(text_grab)\n",
    "#print(X_new)\n",
    "\n",
    "for url in url_list_real:\n",
    "    html = urllib.request.urlopen(url).read()\n",
    "    text_grab = text_grabber(url)\n",
    "    X_new_real.append(text_grab)\n",
    "#print(X_new)\n",
    "\n",
    "print('Done!')"
   ]
  },
  {
   "cell_type": "code",
   "execution_count": 148,
   "metadata": {},
   "outputs": [
    {
     "name": "stdout",
     "output_type": "stream",
     "text": [
      "Classified 5/6 Fake news stories correctly\n",
      "Classified 5/6 Real news stories correctly\n"
     ]
    }
   ],
   "source": [
    "#Run tolenize and predict the 6 real and 6 fake stories\n",
    "\n",
    "sequences_new_fake = tokenizer.texts_to_sequences(X_new_fake)\n",
    "data_new_fake = pad_sequences(sequences_new_fake, maxlen=300)\n",
    "\n",
    "predict_on_fake = model.predict(data_new_fake)\n",
    "\n",
    "sequences_new_real = tokenizer.texts_to_sequences(X_new_real)\n",
    "data_new_real = pad_sequences(sequences_new_real, maxlen=300)\n",
    "\n",
    "predict_on_real = model.predict(data_new_real)\n",
    "\n",
    "for indx, i in enumerate(['Fake', 'Real']):\n",
    "    count_right = 0\n",
    "    for prediction in [predict_on_fake, predict_on_real][indx]:\n",
    "        if round(prediction[0]) == indx:\n",
    "            count_right += 1\n",
    "    print(\"Classified \" + str(count_right) + \"/\" + str(len([predict_on_fake, predict_on_real][indx])) + \" \" + i + \" news stories correctly\")\n",
    "        \n",
    "        \n",
    "\n"
   ]
  },
  {
   "cell_type": "markdown",
   "metadata": {},
   "source": [
    "# Twitter Robot"
   ]
  },
  {
   "cell_type": "code",
   "execution_count": 62,
   "metadata": {
    "collapsed": true
   },
   "outputs": [],
   "source": [
    "#Keys for twitter robot\n",
    "\n",
    "consumer_key = 'yd8omgketBssM2YBa65G2dlg5'\n",
    "consumer_secret = 'UT1gsiHFTDjqFDgLLeE00TXwoAZ5e2Hk4mYYz23BgXrNKfnqPz'\n",
    "access_token = '921952184203399168-1DlLwFXWgxjMNRY0Deu5bLYAA2DIVdf'\n",
    "access_token_secret = 'QCmlzHKmZQMoFRgc1fHRvGslnKqAKoFyZ6wBYXjORKbM5'"
   ]
  },
  {
   "cell_type": "code",
   "execution_count": 63,
   "metadata": {
    "collapsed": true
   },
   "outputs": [],
   "source": [
    "#We use Tweepy instead of twitter package as it is easier to implement a bot with Tweepy\n",
    "\n",
    "import tweepy\n",
    "\n",
    "# Access and authorize our Twitter credentials from credentials.py\n",
    "auth = tweepy.OAuthHandler(consumer_key, consumer_secret)\n",
    "auth.set_access_token(access_token, access_token_secret)\n",
    "api = tweepy.API(auth)"
   ]
  },
  {
   "cell_type": "code",
   "execution_count": 91,
   "metadata": {
    "collapsed": true
   },
   "outputs": [],
   "source": [
    "#Load in a dataset of sites that have been classified as fake news sites \n",
    "\n",
    "import pandas as pd\n",
    "\n",
    "fake_df = pd.read_csv('fake.csv')\n",
    "\n",
    "fake_sites_mult = fake_df['site_url']\n",
    "\n",
    "fake_sites = fake_sites_mult.unique()\n",
    "\n",
    "fake_sites_list = fake_sites.tolist()"
   ]
  },
  {
   "cell_type": "markdown",
   "metadata": {},
   "source": [
    "#### Collect tweets of people who share fake news stories"
   ]
  },
  {
   "cell_type": "code",
   "execution_count": null,
   "metadata": {},
   "outputs": [],
   "source": [
    "#This listens tweets that share articles from these fake news sites, and stores the data of the tweet.\n",
    "#We don't do any more with this now, but it could be expanded in the future to keep track of users who disseminate fake\n",
    "#news to a large audience \n",
    "\n",
    "from tweepy import Stream\n",
    "from tweepy.streaming import StreamListener\n",
    "\n",
    "class MyListener(StreamListener):\n",
    " \n",
    "    def on_data(self, data):\n",
    "        try:\n",
    "            with open('python.json', 'a') as f:\n",
    "                f.write(data)\n",
    "                return True\n",
    "        except BaseException as e:\n",
    "            print(\"Error on_data: %s\" % str(e))\n",
    "        return True\n",
    " \n",
    "    def on_error(self, status):\n",
    "        print(status)\n",
    "        return True\n",
    " \n",
    "twitter_stream = Stream(auth, MyListener())\n",
    "twitter_stream.filter(track=fake_sites_list)"
   ]
  },
  {
   "cell_type": "markdown",
   "metadata": {},
   "source": [
    "#### Tweet at people who talk about our customer (Pepsi) and share a fake news story in the same tweet "
   ]
  },
  {
   "cell_type": "code",
   "execution_count": null,
   "metadata": {},
   "outputs": [],
   "source": [
    "#This will reply to any tweet that has our client's name in the text (Pepsi, in this example) as well as a fake news\n",
    "#story. The idea is that if they're talking about our client and sharing a fake news article in the same Tweet, the\n",
    "#fake news article is likely about our client\n",
    "\n",
    "from time import sleep\n",
    "company_name = 'Pepsi'\n",
    "\n",
    "\n",
    "for tweet in tweepy.Cursor(api.search, q=company_name).items():\n",
    "    try:\n",
    "        #print(tweet.text)\n",
    "        for site in fake_sites_list:\n",
    "            if site in tweet.text:\n",
    "                print('\\nTweet by: @' + tweet.user.screen_name)\n",
    "                sn = tweet.user.screen_name\n",
    "                m = \"@%s Dear readers:  This post has been identified as containing a link to a website known for propagating misleading news stories.  Please read with caution and critical thinking!\" % (sn)\n",
    "                tweet = api.update_status(m, tweet.id)\n",
    "                print('I tweeted!')\n",
    "                sleep(60)\n",
    "\n",
    "    except tweepy.TweepError as e:\n",
    "        print(e.reason)\n",
    "\n",
    "    except StopIteration:\n",
    "        break\n",
    "    \n",
    "\n",
    "\n",
    "            "
   ]
  },
  {
   "cell_type": "code",
   "execution_count": null,
   "metadata": {
    "collapsed": true
   },
   "outputs": [],
   "source": []
  },
  {
   "cell_type": "markdown",
   "metadata": {},
   "source": [
    "# Reddit Bot"
   ]
  },
  {
   "cell_type": "code",
   "execution_count": 74,
   "metadata": {
    "collapsed": true
   },
   "outputs": [],
   "source": [
    "#We use praw to connect to the Reddit api\n",
    "\n",
    "import praw"
   ]
  },
  {
   "cell_type": "code",
   "execution_count": 75,
   "metadata": {},
   "outputs": [
    {
     "name": "stdout",
     "output_type": "stream",
     "text": [
      "Done\n"
     ]
    }
   ],
   "source": [
    "#Define the Reddit bot\n",
    "\n",
    "bot = praw.Reddit(user_agent='Walter_Defender',\n",
    "                  client_id='EHO-FihVMbZeUQ',\n",
    "                  client_secret='9MG0w2hdpGBROZGXTErTPNOd540',\n",
    "                  username='Bot_Defender',\n",
    "                  password='Rusty^22^reddit')\n",
    "print('Done')"
   ]
  },
  {
   "cell_type": "code",
   "execution_count": 77,
   "metadata": {
    "collapsed": true
   },
   "outputs": [],
   "source": [
    "#We don't want to reply to the same thread twice. This saves the threads we've already replied to. \n",
    "submission_done = []"
   ]
  },
  {
   "cell_type": "code",
   "execution_count": null,
   "metadata": {
    "collapsed": true
   },
   "outputs": [],
   "source": [
    "#Find threads that have our company name and a link to a fake news story, and then reply to those threads telling users\n",
    "#that the article is from a site known from spreading fake news \n",
    "\n",
    "compant_name = 'Pepsi'\n",
    "print(\"We'll protect you, \" + company_name)\n",
    "subreddit = bot.subreddit('testingground4bots')\n",
    "for submission in subreddit.stream.submissions():\n",
    "    for site in fake_sites_list:\n",
    "        if site in submission.url and company_name in submission.title and not(submission in submission_done):\n",
    "            author = submission.author\n",
    "            #print(author)\n",
    "            #print(submission.title)\n",
    "            #print(submission.url)\n",
    "            message = \"Dear readers:  This post has been identified as containing a link to a website known for propagating misleading news stories.  Please read with caution and critical thinking!\"# u/{0} \".format(author)\n",
    "            submission.reply(message) # Send message\n",
    "            submission_done.append(submission)\n",
    "            sleep(60)\n",
    "            print(\"I poosted!\")"
   ]
  },
  {
   "cell_type": "code",
   "execution_count": 76,
   "metadata": {
    "collapsed": true
   },
   "outputs": [],
   "source": [
    "#We don't want to reply to the same comment twice. This saves the comments we've already replied to.  \n",
    "\n",
    "comment_done = []"
   ]
  },
  {
   "cell_type": "code",
   "execution_count": null,
   "metadata": {},
   "outputs": [],
   "source": [
    "#This will reply to any comment in any thread in the bot testing grounds subreddit that contains a link to a known\n",
    "#fake news site and mentions our company in the comment's text. \n",
    "\n",
    "subreddit = bot.subreddit('testingground4bots')\n",
    "\n",
    "comments = subreddit.stream.comments()\n",
    "\n",
    "for comment in comments:\n",
    "    text = comment.body\n",
    "    author = comment.author # Fetch author\n",
    "    \n",
    "    if not (comment in comment_done):\n",
    "        for site in fake_sites_list: \n",
    "            if site in text.lower() and company_name.lower() in text.lower():\n",
    "                print(text)\n",
    "                # Generate a message\n",
    "                message = \"Dear readers:  This post has been identified as containing a link to a website known for propagating misleading news stories.  Please read with caution and critical thinking! u/{0} \".format(author)\n",
    "                comment.reply(message) # Send message\n",
    "                comment_done.append(comment)\n",
    "                print(\"I poosted!\")\n",
    "                sleep(600)\n"
   ]
  },
  {
   "cell_type": "code",
   "execution_count": null,
   "metadata": {
    "collapsed": true
   },
   "outputs": [],
   "source": []
  },
  {
   "cell_type": "markdown",
   "metadata": {},
   "source": [
    "### Reddit Bot that classifies an article as fake and then responds "
   ]
  },
  {
   "cell_type": "code",
   "execution_count": 109,
   "metadata": {
    "collapsed": true
   },
   "outputs": [],
   "source": [
    "submission_done = []"
   ]
  },
  {
   "cell_type": "code",
   "execution_count": null,
   "metadata": {},
   "outputs": [],
   "source": [
    "#Find threads that have our company name and a link. We then pull the text of the article, and classify it as real or\n",
    "#fake. We then reply to the thread if the article is fake, and let the users know that our algorithm classified it as \n",
    "#such. \n",
    "\n",
    "company_name = 'Pepsi'\n",
    "print(\"We'll protect you, \" + company_name)\n",
    "subreddit = bot.subreddit('testingground4bots')\n",
    "for submission in subreddit.stream.submissions():\n",
    "    if company_name in submission.title:\n",
    "        if submission.url:\n",
    "            text_grab = text_grabber(submission.url)\n",
    "            text_list = [text_grab]\n",
    "            sequence = tokenizer.texts_to_sequences(text_list)\n",
    "            data_text = pad_sequences(sequence, maxlen=300)\n",
    "\n",
    "\n",
    "            predict_text = model.predict(data_text)\n",
    "            \n",
    "            if (round(predict_text[0][0]) == 0) and not(submission in submission_done):\n",
    "                author = submission.author\n",
    "                print(author)\n",
    "                print(submission.title)\n",
    "                print(submission.url)\n",
    "                message = \"Dear readers:  The link shared by u/{0} has been classified by our algorithm as a fake news article. Please read with caution and critical thinking! \".format(author)\n",
    "                submission.reply(message) # Send message\n",
    "                submission_done.append(submission)\n",
    "                print(\"I poosted!\")\n",
    "                sleep(600)"
   ]
  },
  {
   "cell_type": "code",
   "execution_count": null,
   "metadata": {},
   "outputs": [],
   "source": [
    "#Find threads that have our company name and a link to a real news story. This is for teting only, \n",
    "#would not be implemented in product\n",
    "company_name = 'Pepsi'\n",
    "print(\"We'll protect you, \" + company_name)\n",
    "subreddit = bot.subreddit('testingground4bots')\n",
    "for submission in subreddit.stream.submissions():\n",
    "    if company_name in submission.title:\n",
    "        if submission.url:\n",
    "            text_grab = text_grabber(submission.url)\n",
    "            text_list = [text_grab]\n",
    "            sequence = tokenizer.texts_to_sequences(text_list)\n",
    "            data_text = pad_sequences(sequence, maxlen=300)\n",
    "\n",
    "\n",
    "            predict_text = model.predict(data_text)\n",
    "            \n",
    "            if (round(predict_text[0][0]) == 1) and not(submission in submission_done):\n",
    "                author = submission.author\n",
    "                print(author)\n",
    "                print(submission.title)\n",
    "                print(submission.url)\n",
    "                message = \"Dear readers:  The link shared by u/{0} has been classified by our algorithm as a real news article. \".format(author)\n",
    "                submission.reply(message) # Send message\n",
    "                submission_done.append(submission)\n",
    "                print(\"I poosted!\")\n",
    "                sleep(600)"
   ]
  },
  {
   "cell_type": "code",
   "execution_count": null,
   "metadata": {
    "collapsed": true
   },
   "outputs": [],
   "source": []
  },
  {
   "cell_type": "markdown",
   "metadata": {},
   "source": [
    "<img src=\"fake.png\">\n",
    "\n",
    "<img src=\"real.png\">\n",
    "\n",
    "<img src=\"reddit_example.png\">\n",
    "\n",
    "<img src=\"tweet_example.png\">\n"
   ]
  },
  {
   "cell_type": "markdown",
   "metadata": {},
   "source": [
    "Now that we've established the services we can offer as a corporation, we can finalize in context our business model, summarized in the following table:"
   ]
  },
  {
   "cell_type": "markdown",
   "metadata": {},
   "source": [
    "<img src=\"s1.png\">\n"
   ]
  },
  {
   "cell_type": "markdown",
   "metadata": {},
   "source": [
    "The Keyword is a keyword or set of Keywords that Defender will use to monitor and crawl the web and social media for as specified for each plan. The keyword or the set of keywords will be provided by the customer. For example, P&G is a single keyword, but P&G, Gillette and Tide are a set of keywords for one customer. All three plans include Twitter and Reddit. Pro and Advance plans offer more features such as dashboard and more users from the customer's side. The dashboard deliver real time activity monitoring for the customer accounts on the subscribed plan. The user on the Pro and Advance plan allow our customers to take advantage of other services available with their subscription such as social media marketing and search engine optimization. The Advance Plan offers more features to our customers such as sentiment analysis on Facebook, Instagram, and Telegram. In addition to that, it includes mainstream media monitoring and analysis for our customer’s keyword. Advance plan also includes custom response in which the customer will work with assigned customer support to provide custom response to and Fake News related to the customer.   \n",
    "We priced our services based on the current market. We locked at our competitors in the market and evaluated their services. Although they are not providing the same core services that we are providing(Fake News Detection), they compete in providing sentiment analysis for their clients. Brandwatch, Indico, Lexalytics and Agorapulse are some of the big players in sentiment analysis area. They target small local business and corporates, and their prices started from \\$500 monthly to \\$5000 just as starting plan. If a customer need more services or add on features, the customer need to pay extra. Defender is targeting medium size and corporate clients, therefore we charge premium prices for our services.    \n",
    "Our finance to start the service is as follow:\n"
   ]
  },
  {
   "cell_type": "markdown",
   "metadata": {},
   "source": [
    "<img src=\"S2.png\">\n"
   ]
  }
 ],
 "metadata": {
  "kernelspec": {
   "display_name": "Python 3",
   "language": "python",
   "name": "python3"
  },
  "language_info": {
   "codemirror_mode": {
    "name": "ipython",
    "version": 3
   },
   "file_extension": ".py",
   "mimetype": "text/x-python",
   "name": "python",
   "nbconvert_exporter": "python",
   "pygments_lexer": "ipython3",
   "version": "3.6.6"
  }
 },
 "nbformat": 4,
 "nbformat_minor": 1
}
